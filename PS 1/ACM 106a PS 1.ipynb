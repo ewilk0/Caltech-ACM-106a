{
 "cells": [
  {
   "cell_type": "code",
   "execution_count": 1,
   "id": "acad1596",
   "metadata": {},
   "outputs": [],
   "source": [
    "import numpy as np\n",
    "import scipy"
   ]
  },
  {
   "cell_type": "markdown",
   "id": "92816137",
   "metadata": {},
   "source": [
    "# Problem 2 (QR decomposition)\n",
    "## Part (a)"
   ]
  },
  {
   "cell_type": "code",
   "execution_count": 2,
   "id": "c6c97be5",
   "metadata": {},
   "outputs": [],
   "source": [
    "def projection(projecting_vector, projected_onto, inner_product=np.dot):\n",
    "    numerator = inner_product(projecting_vector, projected_onto)\n",
    "    denominator = inner_product(projected_onto, projected_onto)\n",
    "    return (numerator / denominator) * projected_onto  "
   ]
  },
  {
   "cell_type": "code",
   "execution_count": 3,
   "id": "f27c26d6",
   "metadata": {},
   "outputs": [],
   "source": [
    "def gram_schmidt(vectors, inner_product=np.dot):\n",
    "    n, m = vectors.shape\n",
    "    out_vectors = np.zeros((n, m))\n",
    "    \n",
    "    for i in range(m):\n",
    "        curr_og_vector = vectors[:, i]\n",
    "        new_vector = curr_og_vector.copy()\n",
    "        for j in range(0, i):\n",
    "            new_vector -= projection(curr_og_vector, out_vectors[:, j])\n",
    "        length = np.sqrt(inner_product(new_vector, new_vector))\n",
    "        out_vectors[:, i] = new_vector / length\n",
    "    \n",
    "    return out_vectors"
   ]
  },
  {
   "cell_type": "code",
   "execution_count": 4,
   "id": "948b0cbc",
   "metadata": {},
   "outputs": [],
   "source": [
    "def qr_decomposition(input_matrix: np.array, gram_schmidt_method=gram_schmidt):\n",
    "    gram_schmidt_cols = gram_schmidt_method(input_matrix.copy())\n",
    "    \n",
    "    Q = gram_schmidt_cols.copy()\n",
    "    R = gram_schmidt_cols.T @ input_matrix\n",
    "    \n",
    "    R_rows, R_cols = R.shape\n",
    "    \n",
    "    R = np.array([[R[i, j] if j >= i else 0 for j in range(R_cols)] for i in range(R_rows)])\n",
    "    \n",
    "    return Q, R"
   ]
  },
  {
   "cell_type": "markdown",
   "id": "a67f5752",
   "metadata": {},
   "source": [
    "#### Test it out!"
   ]
  },
  {
   "cell_type": "code",
   "execution_count": 5,
   "id": "1624ae51",
   "metadata": {},
   "outputs": [],
   "source": [
    "input_matrix = np.random.rand(3, 3)\n",
    "input_matrix = np.array(input_matrix).astype(float)"
   ]
  },
  {
   "cell_type": "code",
   "execution_count": 6,
   "id": "02e97be8",
   "metadata": {},
   "outputs": [
    {
     "name": "stdout",
     "output_type": "stream",
     "text": [
      "Your input matrix looks like: \n",
      "[[0.3465309  0.39045702 0.7074207 ]\n",
      " [0.63288504 0.75908185 0.29824815]\n",
      " [0.2285009  0.46699531 0.74452241]]\n"
     ]
    }
   ],
   "source": [
    "print(f\"Your input matrix looks like: \\n{input_matrix}\")"
   ]
  },
  {
   "cell_type": "code",
   "execution_count": 7,
   "id": "0adb82bb",
   "metadata": {},
   "outputs": [
    {
     "name": "stdout",
     "output_type": "stream",
     "text": [
      "The output Q @ R looks like: \n",
      "[[0.3465309  0.39045702 0.7074207 ]\n",
      " [0.63288504 0.75908185 0.29824815]\n",
      " [0.2285009  0.46699531 0.74452241]]\n"
     ]
    }
   ],
   "source": [
    "Q, R = qr_decomposition(input_matrix, gram_schmidt_method=gram_schmidt)\n",
    "print(f\"The output Q @ R looks like: \\n{Q @ R}\")"
   ]
  },
  {
   "cell_type": "markdown",
   "id": "a86dd4f8",
   "metadata": {},
   "source": [
    "## Part (b)"
   ]
  },
  {
   "cell_type": "code",
   "execution_count": 8,
   "id": "90990f95",
   "metadata": {},
   "outputs": [],
   "source": [
    "def modified_gram_schmidt(vectors, inner_product=np.dot):\n",
    "    n, m = vectors.shape\n",
    "    out_vectors = vectors.copy()\n",
    "    \n",
    "    for j in range(m):\n",
    "        out_vectors[:, j] = out_vectors[:, j] / np.sqrt(inner_product(out_vectors[:, j], out_vectors[:, j]))\n",
    "        for i in range(j+1, m):\n",
    "            out_vectors[:, i] = out_vectors[:, i] - (inner_product(out_vectors[:, i], out_vectors[:, j]) * out_vectors[:, j])\n",
    "    \n",
    "    return out_vectors"
   ]
  },
  {
   "cell_type": "markdown",
   "id": "a7e077df",
   "metadata": {},
   "source": [
    "#### Test it out!"
   ]
  },
  {
   "cell_type": "code",
   "execution_count": 9,
   "id": "04bf03da",
   "metadata": {},
   "outputs": [],
   "source": [
    "new_input_matrix = np.random.rand(3, 3)\n",
    "new_input_matrix = np.array(input_matrix).astype(float)"
   ]
  },
  {
   "cell_type": "code",
   "execution_count": 10,
   "id": "70508a73",
   "metadata": {},
   "outputs": [
    {
     "name": "stdout",
     "output_type": "stream",
     "text": [
      "Your input matrix looks like: \n",
      "[[0.3465309  0.39045702 0.7074207 ]\n",
      " [0.63288504 0.75908185 0.29824815]\n",
      " [0.2285009  0.46699531 0.74452241]]\n"
     ]
    }
   ],
   "source": [
    "print(f\"Your input matrix looks like: \\n{new_input_matrix}\")"
   ]
  },
  {
   "cell_type": "code",
   "execution_count": 11,
   "id": "3d91fc0f",
   "metadata": {},
   "outputs": [
    {
     "name": "stdout",
     "output_type": "stream",
     "text": [
      "The output Q @ R looks like: \n",
      "[[0.3465309  0.39045702 0.7074207 ]\n",
      " [0.63288504 0.75908185 0.29824815]\n",
      " [0.2285009  0.46699531 0.74452241]]\n"
     ]
    }
   ],
   "source": [
    "new_Q, new_R = qr_decomposition(input_matrix, gram_schmidt_method=modified_gram_schmidt)\n",
    "print(f\"The output Q @ R looks like: \\n{new_Q @ new_R}\")"
   ]
  },
  {
   "cell_type": "markdown",
   "id": "88d60aff",
   "metadata": {},
   "source": [
    "## Part (c, d)"
   ]
  },
  {
   "cell_type": "code",
   "execution_count": 12,
   "id": "d4361271",
   "metadata": {},
   "outputs": [],
   "source": [
    "def check_stability_of_hilbert(size_of_hilbert_matrix):\n",
    "    print(f\"Size of Hilbert matrix = {size_of_hilbert_matrix}\")\n",
    "    print(\"-\"*40)\n",
    "    hilbert_matrix = scipy.linalg.hilbert(size_of_hilbert_matrix)\n",
    "    \n",
    "    Q, R = qr_decomposition(hilbert_matrix, gram_schmidt_method=gram_schmidt)\n",
    "    modified_Q, modified_R = qr_decomposition(hilbert_matrix, gram_schmidt_method=modified_gram_schmidt)\n",
    "    \n",
    "    out1 = np.linalg.norm(hilbert_matrix - (Q @ R))\n",
    "    print(f\"||H - QR|| for classical GS: {out1}\")\n",
    "    out2 = np.linalg.norm(hilbert_matrix - (modified_Q @ modified_R))\n",
    "    print(f\"||H - QR|| for modified GS: {out2}\")\n",
    "    \n",
    "    out3 = np.linalg.norm(np.eye(size_of_hilbert_matrix) - (Q.T @ Q))\n",
    "    print(f\"||I - Q'Q|| for classical GS: {out3}\")\n",
    "    out4 = np.linalg.norm(np.eye(size_of_hilbert_matrix) - (modified_Q.T @ modified_Q))\n",
    "    print(f\"||I - Q'Q|| for modified GS: {out4}\")"
   ]
  },
  {
   "cell_type": "code",
   "execution_count": 13,
   "id": "9f7323ad",
   "metadata": {},
   "outputs": [
    {
     "name": "stdout",
     "output_type": "stream",
     "text": [
      "Size of Hilbert matrix = 10\n",
      "----------------------------------------\n",
      "||H - QR|| for classical GS: 4.928357553657667e-06\n",
      "||H - QR|| for modified GS: 3.941156461239072e-06\n",
      "||I - Q'Q|| for classical GS: 3.4657738578377857\n",
      "||I - Q'Q|| for modified GS: 5.198983345447229e-05\n"
     ]
    }
   ],
   "source": [
    "check_stability_of_hilbert(size_of_hilbert_matrix=10)"
   ]
  },
  {
   "cell_type": "code",
   "execution_count": 14,
   "id": "2ff8cf09",
   "metadata": {},
   "outputs": [
    {
     "name": "stdout",
     "output_type": "stream",
     "text": [
      "Size of Hilbert matrix = 100\n",
      "----------------------------------------\n",
      "||H - QR|| for classical GS: 0.2049720681307243\n",
      "||H - QR|| for modified GS: 1.0880299442129764\n",
      "||I - Q'Q|| for classical GS: 92.41538065080829\n",
      "||I - Q'Q|| for modified GS: 3.7148202930777665\n"
     ]
    }
   ],
   "source": [
    "check_stability_of_hilbert(size_of_hilbert_matrix=100)"
   ]
  },
  {
   "cell_type": "markdown",
   "id": "207ad235",
   "metadata": {},
   "source": [
    "## Part (e)"
   ]
  },
  {
   "cell_type": "markdown",
   "id": "710023e5",
   "metadata": {},
   "source": [
    "Based on the results above, we can see that the QR decomposition using modified Gram-Schmidt exhibits more stability than the QR decomposition using classical Gram-Schmidt, especially for large, difficult/ill-conditioned matrices. The value of $||I - Q'Q||$ is much smaller when using the modified method, and the value of $||A - QR||$ is almost always smaller when using the modified method (there is a small difference on the $100 \\times 100$ Hilbert matrix, but this observation was confirmed on large, random matrices $A$ generated by NumPy)."
   ]
  }
 ],
 "metadata": {
  "kernelspec": {
   "display_name": "Python 3 (ipykernel)",
   "language": "python",
   "name": "python3"
  },
  "language_info": {
   "codemirror_mode": {
    "name": "ipython",
    "version": 3
   },
   "file_extension": ".py",
   "mimetype": "text/x-python",
   "name": "python",
   "nbconvert_exporter": "python",
   "pygments_lexer": "ipython3",
   "version": "3.10.9"
  }
 },
 "nbformat": 4,
 "nbformat_minor": 5
}
