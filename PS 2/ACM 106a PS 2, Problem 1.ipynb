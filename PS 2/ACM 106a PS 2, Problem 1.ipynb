{
 "cells": [
  {
   "cell_type": "code",
   "execution_count": 1,
   "id": "25d6b01a",
   "metadata": {},
   "outputs": [],
   "source": [
    "import numpy as np\n",
    "import scipy"
   ]
  },
  {
   "cell_type": "markdown",
   "id": "84333d75",
   "metadata": {},
   "source": [
    "# Problem 1 (Givens rotations for QR decomposition)"
   ]
  },
  {
   "cell_type": "code",
   "execution_count": 132,
   "id": "ba49538f",
   "metadata": {},
   "outputs": [],
   "source": [
    "def givens(a, b):\n",
    "    r = np.sqrt(a**2 + b**2)\n",
    "    theta = np.arcsin(b / r)\n",
    "    c = np.cos(theta)\n",
    "    s = np.sin(theta)\n",
    "    return np.array([[c, -s], [s, c]])\n",
    "\n",
    "def qr_givens_rotations(input_matrix):\n",
    "    n = input_matrix.shape[0]\n",
    "    \n",
    "    Q = np.eye(n)\n",
    "    R = input_matrix\n",
    "    \n",
    "    for i in range(n-1, 0, -1):\n",
    "        b = R[i, 0]\n",
    "        a = R[i-1, 0]\n",
    "        givens_mat = givens(a, b)\n",
    "        \n",
    "        tot_givens_mat = np.eye(n)\n",
    "        tot_givens_mat[i-1:i+1, i-1:i+1] = givens_mat\n",
    "        \n",
    "        R = tot_givens_mat.T @ R\n",
    "        Q = Q @ tot_givens_mat\n",
    "    \n",
    "    return Q, R"
   ]
  },
  {
   "cell_type": "markdown",
   "id": "31e87038",
   "metadata": {},
   "source": [
    "Test it out!"
   ]
  },
  {
   "cell_type": "code",
   "execution_count": 133,
   "id": "4ba8628b",
   "metadata": {},
   "outputs": [],
   "source": [
    "n = 3\n",
    "in_mat = np.diag(np.random.rand(n))\n",
    "in_mat[:, 0] = np.random.rand(n)\n",
    "in_mat[0, :] = np.random.rand(n)"
   ]
  },
  {
   "cell_type": "code",
   "execution_count": 141,
   "id": "43f1bf9e",
   "metadata": {
    "scrolled": true
   },
   "outputs": [
    {
     "name": "stdout",
     "output_type": "stream",
     "text": [
      "||A - QR|| = 3.3232593448441795e-15\n"
     ]
    }
   ],
   "source": [
    "Q, R = qr_givens_rotations(in_mat)\n",
    "print(f\"||A - QR|| = {np.linalg.norm(in_mat - Q @ R)}\")"
   ]
  }
 ],
 "metadata": {
  "kernelspec": {
   "display_name": "Python 3 (ipykernel)",
   "language": "python",
   "name": "python3"
  },
  "language_info": {
   "codemirror_mode": {
    "name": "ipython",
    "version": 3
   },
   "file_extension": ".py",
   "mimetype": "text/x-python",
   "name": "python",
   "nbconvert_exporter": "python",
   "pygments_lexer": "ipython3",
   "version": "3.10.9"
  }
 },
 "nbformat": 4,
 "nbformat_minor": 5
}
